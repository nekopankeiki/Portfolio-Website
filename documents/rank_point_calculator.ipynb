{
 "cells": [
  {
   "cell_type": "code",
   "execution_count": null,
   "metadata": {
    "_cell_guid": "b1076dfc-b9ad-4769-8c92-a6c4dae69d19",
    "_uuid": "8f2839f25d086af736a60e9eeb907d3b93b6e0e5",
    "execution": {
     "iopub.execute_input": "2024-05-30T07:01:03.079015Z",
     "iopub.status.busy": "2024-05-30T07:01:03.077790Z",
     "iopub.status.idle": "2024-05-30T07:01:17.919040Z",
     "shell.execute_reply": "2024-05-30T07:01:17.917790Z",
     "shell.execute_reply.started": "2024-05-30T07:01:03.078957Z"
    },
    "trusted": true
   },
   "outputs": [
    {
     "name": "stdout",
     "output_type": "stream",
     "text": [
      "What is your GP score?  65\n",
      "What is your PW score?  70\n",
      "What is your H1 subject score?  75\n",
      "What is your first H2 subject score?  78\n",
      "What is your second H2 subject score?  80\n",
      "What is your third H2 subject score?  73\n"
     ]
    },
    {
     "name": "stdout",
     "output_type": "stream",
     "text": [
      "['B', 'A', 'A', 'A', 'A', 'A']\n",
      "['B', 'A', 'A']\n",
      "['A', 'A', 'A']\n",
      "[20, 20, 20, 8.75, 10, 10]\n",
      "88.75\n"
     ]
    }
   ],
   "source": [
    "# obtain user input\n",
    "GP = int(input(\"What is your GP score? \"))\n",
    "PW = int(input(\"What is your PW score? \"))\n",
    "H1_1 = int(input(\"What is your H1 subject score? \"))\n",
    "H2_1 = int(input(\"What is your first H2 subject score? \"))\n",
    "H2_2 = int(input(\"What is your second H2 subject score? \"))\n",
    "H2_3 = int(input(\"What is your third H2 subject score? \"))\n",
    "\n",
    "# store user input in lists\n",
    "subject_scores = [GP, PW, H1_1, H2_1, H2_2, H2_3]\n",
    "grades = []\n",
    "\n",
    "# convert numerical scores to alphabetical scores\n",
    "for i in subject_scores:\n",
    "    if 70<=i<=100:\n",
    "        score = 'A'\n",
    "    elif 60<=i<70:\n",
    "        score = 'B'\n",
    "    elif 55<=i<60:\n",
    "        score = 'C'\n",
    "    elif 50<=i<55:\n",
    "        score = 'D'\n",
    "    elif 45<=i<50:\n",
    "        score = 'E'\n",
    "    elif 40<=i<45:\n",
    "        score = 'S'\n",
    "    else:\n",
    "        score = 'U'\n",
    "    grades.append(score)\n",
    "\n",
    "print(grades)\n",
    "\n",
    "# assign the correct level to each subject\n",
    "H1_grades = grades[0:3]\n",
    "H2_grades = grades[3:6]\n",
    "\n",
    "print(H1_grades)\n",
    "print(H2_grades)\n",
    "\n",
    "# convert alphabetical grades to rank points\n",
    "def rp_calculator():\n",
    "    rp_per_subject = []\n",
    "    for i in H2_grades:\n",
    "        if i == 'A':\n",
    "            rp = 20\n",
    "        elif i == 'B':\n",
    "            rp = 17.5\n",
    "        elif i == 'C':\n",
    "            rp = 15\n",
    "        elif i == 'D':\n",
    "            rp = 12.5\n",
    "        elif i == 'E':\n",
    "            rp = 10\n",
    "        elif i == 'S':\n",
    "            rp = 5\n",
    "        elif i == 'U':\n",
    "            rp = 0\n",
    "        rp_per_subject.append(rp)\n",
    "    for i in H1_grades:\n",
    "        if i == 'A':\n",
    "            rp = 10\n",
    "        elif i == 'B':\n",
    "            rp = 8.75\n",
    "        elif i == 'C':\n",
    "            rp = 7.5\n",
    "        elif i == 'D':\n",
    "            rp = 6.25\n",
    "        elif i == 'E':\n",
    "            rp = 5\n",
    "        elif i == 'S':\n",
    "            rp = 2.5\n",
    "        elif i == 'U':\n",
    "            rp = 0\n",
    "        rp_per_subject.append(rp)\n",
    "    print(rp_per_subject)\n",
    "    total_rp = sum(rp_per_subject)\n",
    "    print(total_rp)\n",
    "\n",
    "rp_calculator()"
   ]
  }
 ],
 "metadata": {
  "kaggle": {
   "accelerator": "none",
   "dataSources": [],
   "dockerImageVersionId": 30698,
   "isGpuEnabled": false,
   "isInternetEnabled": true,
   "language": "python",
   "sourceType": "notebook"
  },
  "kernelspec": {
   "display_name": "Python 3",
   "language": "python",
   "name": "python3"
  },
  "language_info": {
   "codemirror_mode": {
    "name": "ipython",
    "version": 3
   },
   "file_extension": ".py",
   "mimetype": "text/x-python",
   "name": "python",
   "nbconvert_exporter": "python",
   "pygments_lexer": "ipython3",
   "version": "3.10.13"
  }
 },
 "nbformat": 4,
 "nbformat_minor": 4
}
